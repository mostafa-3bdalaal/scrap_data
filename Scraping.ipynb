{
  "nbformat": 4,
  "nbformat_minor": 0,
  "metadata": {
    "colab": {
      "provenance": []
    },
    "kernelspec": {
      "name": "python3",
      "display_name": "Python 3"
    },
    "language_info": {
      "name": "python"
    }
  },
  "cells": [
    {
      "cell_type": "code",
      "execution_count": 70,
      "metadata": {
        "id": "aRE3qFPxKB0q"
      },
      "outputs": [],
      "source": [
        "import pandas as pd\n",
        "import numpy as np\n",
        "import requests\n",
        "import csv\n",
        "from bs4 import BeautifulSoup\n",
        "from itertools import zip_longest"
      ]
    },
    {
      "cell_type": "code",
      "source": [
        "request=requests.get(\"https://wuzzuf.net/a/IT-Software-Development-Jobs-in-Egypt\")\n",
        "request"
      ],
      "metadata": {
        "id": "ou8u-Y6_KDGF",
        "colab": {
          "base_uri": "https://localhost:8080/"
        },
        "outputId": "748fef4c-d346-41c2-cea4-07a442072715"
      },
      "execution_count": 71,
      "outputs": [
        {
          "output_type": "execute_result",
          "data": {
            "text/plain": [
              "<Response [200]>"
            ]
          },
          "metadata": {},
          "execution_count": 71
        }
      ]
    },
    {
      "cell_type": "code",
      "source": [
        "source=request.content\n"
      ],
      "metadata": {
        "id": "hywle_0oKDIl"
      },
      "execution_count": 82,
      "outputs": []
    },
    {
      "cell_type": "code",
      "source": [
        "soup=BeautifulSoup(source,\"lxml\")\n"
      ],
      "metadata": {
        "id": "9bkC7TLQKDLF"
      },
      "execution_count": 83,
      "outputs": []
    },
    {
      "cell_type": "code",
      "source": [
        "Job_title=[]\n",
        "Company_name=[]\n",
        "Location=[]\n",
        "Skills=[]\n",
        "job_title=soup.find_all('h2',{'class':'css-m604qf'})\n",
        "for i in job_title:\n",
        "    print(i.text)"
      ],
      "metadata": {
        "id": "GZq8HoEdKDNe",
        "colab": {
          "base_uri": "https://localhost:8080/"
        },
        "outputId": "ad2de763-bd0b-4245-b4b0-e1a995ffecd6"
      },
      "execution_count": 74,
      "outputs": [
        {
          "output_type": "stream",
          "name": "stdout",
          "text": [
            "Data Analyst\n",
            "Devops Engineer Consultant\n",
            "Administrative Assistant – speaking fluent English send whatsapp 0107/069/4776\n",
            "e&UAE (Mail and Chat) Excellent English speakers,Graduates\n",
            "Scan to BIM / Point Cloud Modeler\n",
            "QC and contracting Engineer\n",
            "Technical Support Advisor (Zayed on-site)\n",
            "System Administrator\n",
            "Fresh Real Estate Sales (Zero Experience)\n",
            "Production Planning Engineer\n",
            "Production Engineer\n",
            "Internal Auditor\n",
            "Educational Sales Specialist (Sales Agent) send cv WhatsApp 0107/069/4776\n",
            "Education Teacher send cv WhatsApp 0107/069/4776\n",
            "Recruitment &HR Coordinator\n",
            "Mobile Repair Technician (Mansoura)\n",
            "Telesales Agent\n",
            "IT System Engineer\n",
            "Brand & Operations Lead - Modest Wear\n",
            "HR Section Head\n"
          ]
        }
      ]
    },
    {
      "cell_type": "code",
      "source": [
        "company_name=soup.find_all('a',{'class':'css-17s97q8'})\n",
        "for i in company_name:\n",
        "    print(i.text)"
      ],
      "metadata": {
        "id": "eCgUCDO-KDP3",
        "colab": {
          "base_uri": "https://localhost:8080/"
        },
        "outputId": "afa04c75-d29f-4e0e-bdfe-73bd62334a15"
      },
      "execution_count": 75,
      "outputs": [
        {
          "output_type": "stream",
          "name": "stdout",
          "text": [
            "Misr International Hospital -\n",
            "Finiex Soft  -\n",
            "IFSA -\n",
            "Etisalat Egypt -\n",
            "Geobiro Engineering Services -\n",
            "Rakaez -\n",
            "Intouch CX  -\n",
            "POS CX -\n",
            "The Address Investments for Real Estate Consultancy -\n",
            "Universal Furniture company -\n",
            "Universal Furniture company -\n",
            "Chloride -\n",
            "IFSA -\n",
            "IFSA -\n",
            "Axios International   -\n",
            "OPPO Egypt  -\n",
            "STEM Entrepreneurship Center -\n",
            "Saudi German Hospital  -\n",
            "Confidential -\n",
            "Zeina Group -\n"
          ]
        }
      ]
    },
    {
      "cell_type": "code",
      "source": [
        "location=soup.find_all('span',{'class':'css-5wys0k'})\n",
        "for i in location:\n",
        "    print(i.text)"
      ],
      "metadata": {
        "id": "ER2uwSW6KDSa",
        "colab": {
          "base_uri": "https://localhost:8080/"
        },
        "outputId": "72bdd8ec-a162-4b4b-9a32-c98a17a145b3"
      },
      "execution_count": 76,
      "outputs": [
        {
          "output_type": "stream",
          "name": "stdout",
          "text": [
            "Dokki, Giza, Egypt \n",
            "Glim, Alexandria, Egypt \n",
            "Alexandria, Egypt \n",
            "Cairo, Egypt \n",
            "Glim, Alexandria, Egypt \n",
            "New Cairo, Cairo, Egypt \n",
            "Sheikh Zayed, Giza, Egypt \n",
            "Alexandria, Egypt \n",
            "New Cairo, Cairo, Egypt \n",
            "Ataqah, Suez, Egypt \n",
            "Ataqah, Suez, Egypt \n",
            "Abu Rawash, Giza, Egypt \n",
            "Sidi Gaber, Alexandria, Egypt \n",
            "Alexandria, Egypt \n",
            "Dokki, Giza, Egypt \n",
            "Mansoura, Dakahlia, Egypt \n",
            "Sheraton, Cairo, Egypt \n",
            "New Nozha, Cairo, Egypt \n",
            "New Cairo, Cairo, Egypt \n",
            "10th of Ramadan City, Sharqia, Egypt \n"
          ]
        }
      ]
    },
    {
      "cell_type": "code",
      "source": [
        "skills=soup.find_all('div',{'class':'css-y4udm8'})\n",
        "for i in skills:\n",
        "    print(i.text)"
      ],
      "metadata": {
        "id": "GkBDVXecKDU0",
        "colab": {
          "base_uri": "https://localhost:8080/"
        },
        "outputId": "9999e91e-b677-4f46-a491-b3e875b732a3"
      },
      "execution_count": 77,
      "outputs": [
        {
          "output_type": "stream",
          "name": "stdout",
          "text": [
            "Full TimeOn-siteEntry Level · 2 - 3 Yrs of Exp · Business Development · Hospitality/Hotels/Food Services · Analyst/Research · Analysis · BI · business · Computer Science · Data · Data Analysis · excel\n",
            "Part TimeRemoteManager · 3 - 5 Yrs of Exp · Installation/Maintenance/Repair · IT/Software Development · Engineering - Telecom/Technology · Devops Engineer · engineer · Information Technology (IT) · Software\n",
            "InternshipOn-siteEntry Level · Administration · Business Development · Operations/Management · english · Communication · Microsoft Excel\n",
            "Full TimeOn-siteEntry Level · 0 - 4 Yrs of Exp · Customer Service/Support · IT/Software Development · Media/Journalism/Publishing · Customer Service · Customer Support · Customer Care · Customer Relations · Customer Satisfaction · Customer Retention · Customer Service Management\n",
            "Full TimeOn-siteEntry Level · 0 - 5 Yrs of Exp · Engineering - Construction/Civil/Architecture · point cloud modelling · BIM Modeling · Revit · MEP · Quick Learning · Adaptability · Problem Solving · communication skills · Organizational Development\n",
            "Full TimeOn-siteExperienced · 3 - 5 Yrs of Exp · Engineering - Construction/Civil/Architecture · Quality · QC · Interior Design · Interior Finishing · Contract Management · Contractor managment · Quality Assurance · Architecture Engineering · Project Management\n",
            "Full TimeOn-siteEntry Level · Customer Service/Support · Engineering - Telecom/Technology · Customer Support · Technical Support · Information Technology (IT)\n",
            "Full TimeOn-siteExperienced · 6 - 15 Yrs of Exp · IT/Software Development · System Administration · ITsystem · Administration · Cloud · Engineering · Information Technology (IT) · Microsoft · PowerShell · Windows\n",
            "Full TimeOn-siteEntry Level · 0 - 2 Yrs of Exp · Customer Service/Support · Operations/Management · Sales/Retail · Real Estate Sales · Real Estate · Sales · sales skills\n",
            "Full TimeOn-siteExperienced · 2 - 4 Yrs of Exp · Manufacturing/Production · Furniture · Planning · Production · Applied Arts · Engineering · AutoCAD · Design\n",
            "Full TimeOn-siteExperienced · 3 - 5 Yrs of Exp · males_only · Manufacturing/Production · Applied Arts · Design · Production · AutoCAD · Leadership · Manufacturing\n",
            "Full TimeOn-siteExperienced · 3 - 4 Yrs of Exp · Accounting/Finance · Financial Auditor · Certified Internal Auditor (CIA) · Accounting Software · Accounting · Cost Accounting · Financial · Financial Accounting · Auditing · Financial Analysis\n",
            "InternshipOn-siteEntry Level · Business Development · Customer Service/Support · Sales/Retail · Educational · Educational Sales · Sales · Sales Target · sales skills · Customer Service · Sales Specialist\n",
            "InternshipHybridEntry Level · Administration · Education/Teaching · Training/Instructor · Education · Communication skills · Course · Communication · Training · Teaching · English\n",
            "Full TimeOn-siteExperienced · 2 - 4 Yrs of Exp · Administration · Human Resources · Recruitment Coordination · Recruitment · Human Resources (HR) · Administration · HR · Recruiting · Coordination · Sourcing\n",
            "Full TimeOn-siteExperienced · 1 - 3 Yrs of Exp · Installation/Maintenance/Repair · IT/Software Development · Maintenance · Repair · Microsoft Office\n",
            "Full TimeOn-siteEntry Level · 1 - 3 Yrs of Exp · females_preferred · Customer Service/Support · Marketing/PR/Advertising · Sales/Retail · Agent · Customer Service · sales skills · Sales · Telesales · telesales agent · Communication\n",
            "Full TimeOn-siteExperienced · 5 - 6 Yrs of Exp · Installation/Maintenance/Repair · IT/Software Development · Engineering - Telecom/Technology · Information Technology (IT) · Software Development · Communication · computer · Computer Science · Software Engineering · LAN\n",
            "Full TimePart TimeHybridExperienced · 1 - 5 Yrs of Exp · Operations/Management · Manufacturing/Production · Fashion · Brand Management · Operations · Production Process · Sales\n",
            "Full TimeOn-siteExperienced · 5 - 6 Yrs of Exp · Human Resources · HR · Human Resources (HR) · English · Manufacturing · SAP · Microsoft Office · Labor Law · Administration\n"
          ]
        }
      ]
    },
    {
      "cell_type": "code",
      "source": [
        "for i in range(len(job_title)):\n",
        "    Job_title.append(job_title[i].text)\n",
        "    Company_name.append(company_name[i].text)\n",
        "    Location.append(location[i].text)\n",
        "    Skills.append(skills[i].text)\n"
      ],
      "metadata": {
        "id": "KInbx1PwKDXV"
      },
      "execution_count": 78,
      "outputs": []
    },
    {
      "cell_type": "code",
      "source": [
        "Job_title"
      ],
      "metadata": {
        "id": "YgSE2dPvKDZ9",
        "colab": {
          "base_uri": "https://localhost:8080/"
        },
        "outputId": "8d94ed3d-12c5-454e-8e2f-4f163cccc62d"
      },
      "execution_count": 79,
      "outputs": [
        {
          "output_type": "execute_result",
          "data": {
            "text/plain": [
              "['Data Analyst',\n",
              " 'Devops Engineer Consultant',\n",
              " 'Administrative Assistant – speaking fluent English send whatsapp 0107/069/4776',\n",
              " 'e&UAE (Mail and Chat) Excellent English speakers,Graduates',\n",
              " 'Scan to BIM / Point Cloud Modeler',\n",
              " 'QC and contracting Engineer',\n",
              " 'Technical Support Advisor (Zayed on-site)',\n",
              " 'System Administrator',\n",
              " 'Fresh Real Estate Sales (Zero Experience)',\n",
              " 'Production Planning Engineer',\n",
              " 'Production Engineer',\n",
              " 'Internal Auditor',\n",
              " 'Educational Sales Specialist (Sales Agent) send cv WhatsApp 0107/069/4776',\n",
              " 'Education Teacher send cv WhatsApp 0107/069/4776',\n",
              " 'Recruitment &HR Coordinator',\n",
              " 'Mobile Repair Technician (Mansoura)',\n",
              " 'Telesales Agent',\n",
              " 'IT System Engineer',\n",
              " 'Brand & Operations Lead - Modest Wear',\n",
              " 'HR Section Head']"
            ]
          },
          "metadata": {},
          "execution_count": 79
        }
      ]
    },
    {
      "cell_type": "code",
      "source": [
        "file=[Job_title,Company_name,Location,Skills]\n",
        "exported=zip_longest(*file)"
      ],
      "metadata": {
        "id": "DQZKKAV2Uo8T"
      },
      "execution_count": 80,
      "outputs": []
    },
    {
      "cell_type": "code",
      "source": [
        "with open('scrap.csv',mode='w',newline='',encoding='utf-8') as file:\n",
        "  writer=csv.writer(file)\n",
        "  writer.writerow(['Job_title','Company_name','Location','Skills'])\n",
        "  for i in exported:\n",
        "    writer.writerow([i[0],i[1],i[2],i[3]])\n",
        "from google.colab import files\n",
        "files.download('scrap.csv')"
      ],
      "metadata": {
        "id": "dXmCkmHNUo5i"
      },
      "execution_count": 81,
      "outputs": []
    }
  ]
}